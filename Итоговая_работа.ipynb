{
  "nbformat": 4,
  "nbformat_minor": 0,
  "metadata": {
    "colab": {
      "provenance": []
    },
    "kernelspec": {
      "name": "python3",
      "display_name": "Python 3"
    },
    "language_info": {
      "name": "python"
    }
  },
  "cells": [
    {
      "cell_type": "markdown",
      "source": [
        "Программа-бот для определения погоды в разных городах.\n",
        "Telegram-бот, который получает информацию о  текущей погоде в любом городе.\n",
        "Сначала установил нужные библиотеки для работы - "
      ],
      "metadata": {
        "id": "RSz0ubXad495"
      }
    },
    {
      "cell_type": "code",
      "source": [
        "!pip install aiogram"
      ],
      "metadata": {
        "id": "Gq40j1UDMSxP",
        "colab": {
          "base_uri": "https://localhost:8080/"
        },
        "outputId": "bf0c58f9-eb02-45bf-c976-41db2241b184"
      },
      "execution_count": 35,
      "outputs": [
        {
          "output_type": "stream",
          "name": "stdout",
          "text": [
            "Looking in indexes: https://pypi.org/simple, https://us-python.pkg.dev/colab-wheels/public/simple/\n",
            "Requirement already satisfied: aiogram in /usr/local/lib/python3.7/dist-packages (2.23.1)\n",
            "Requirement already satisfied: aiohttp<3.9.0,>=3.8.0 in /usr/local/lib/python3.7/dist-packages (from aiogram) (3.8.3)\n",
            "Requirement already satisfied: certifi>=2021.10.8 in /usr/local/lib/python3.7/dist-packages (from aiogram) (2022.9.24)\n",
            "Requirement already satisfied: Babel<2.10.0,>=2.9.1 in /usr/local/lib/python3.7/dist-packages (from aiogram) (2.9.1)\n",
            "Requirement already satisfied: magic-filter>=1.0.9 in /usr/local/lib/python3.7/dist-packages (from aiogram) (1.0.9)\n",
            "Requirement already satisfied: typing-extensions>=3.7.4 in /usr/local/lib/python3.7/dist-packages (from aiohttp<3.9.0,>=3.8.0->aiogram) (4.1.1)\n",
            "Requirement already satisfied: multidict<7.0,>=4.5 in /usr/local/lib/python3.7/dist-packages (from aiohttp<3.9.0,>=3.8.0->aiogram) (6.0.2)\n",
            "Requirement already satisfied: frozenlist>=1.1.1 in /usr/local/lib/python3.7/dist-packages (from aiohttp<3.9.0,>=3.8.0->aiogram) (1.3.3)\n",
            "Requirement already satisfied: charset-normalizer<3.0,>=2.0 in /usr/local/lib/python3.7/dist-packages (from aiohttp<3.9.0,>=3.8.0->aiogram) (2.1.1)\n",
            "Requirement already satisfied: yarl<2.0,>=1.0 in /usr/local/lib/python3.7/dist-packages (from aiohttp<3.9.0,>=3.8.0->aiogram) (1.8.1)\n",
            "Requirement already satisfied: attrs>=17.3.0 in /usr/local/lib/python3.7/dist-packages (from aiohttp<3.9.0,>=3.8.0->aiogram) (22.1.0)\n",
            "Requirement already satisfied: async-timeout<5.0,>=4.0.0a3 in /usr/local/lib/python3.7/dist-packages (from aiohttp<3.9.0,>=3.8.0->aiogram) (4.0.2)\n",
            "Requirement already satisfied: aiosignal>=1.1.2 in /usr/local/lib/python3.7/dist-packages (from aiohttp<3.9.0,>=3.8.0->aiogram) (1.3.1)\n",
            "Requirement already satisfied: asynctest==0.13.0 in /usr/local/lib/python3.7/dist-packages (from aiohttp<3.9.0,>=3.8.0->aiogram) (0.13.0)\n",
            "Requirement already satisfied: pytz>=2015.7 in /usr/local/lib/python3.7/dist-packages (from Babel<2.10.0,>=2.9.1->aiogram) (2022.6)\n",
            "Requirement already satisfied: idna>=2.0 in /usr/local/lib/python3.7/dist-packages (from yarl<2.0,>=1.0->aiohttp<3.9.0,>=3.8.0->aiogram) (2.10)\n"
          ]
        }
      ]
    },
    {
      "cell_type": "code",
      "source": [
        "!pip install python-weather\n",
        "!pip install telebot"
      ],
      "metadata": {
        "colab": {
          "base_uri": "https://localhost:8080/"
        },
        "id": "AZCIVKzoeoLS",
        "outputId": "40e77035-848a-436c-81db-433962144539"
      },
      "execution_count": 36,
      "outputs": [
        {
          "output_type": "stream",
          "name": "stdout",
          "text": [
            "Looking in indexes: https://pypi.org/simple, https://us-python.pkg.dev/colab-wheels/public/simple/\n",
            "Requirement already satisfied: python-weather in /usr/local/lib/python3.7/dist-packages (0.4.3)\n",
            "Requirement already satisfied: aiohttp in /usr/local/lib/python3.7/dist-packages (from python-weather) (3.8.3)\n",
            "Requirement already satisfied: yarl<2.0,>=1.0 in /usr/local/lib/python3.7/dist-packages (from aiohttp->python-weather) (1.8.1)\n",
            "Requirement already satisfied: typing-extensions>=3.7.4 in /usr/local/lib/python3.7/dist-packages (from aiohttp->python-weather) (4.1.1)\n",
            "Requirement already satisfied: frozenlist>=1.1.1 in /usr/local/lib/python3.7/dist-packages (from aiohttp->python-weather) (1.3.3)\n",
            "Requirement already satisfied: asynctest==0.13.0 in /usr/local/lib/python3.7/dist-packages (from aiohttp->python-weather) (0.13.0)\n",
            "Requirement already satisfied: aiosignal>=1.1.2 in /usr/local/lib/python3.7/dist-packages (from aiohttp->python-weather) (1.3.1)\n",
            "Requirement already satisfied: async-timeout<5.0,>=4.0.0a3 in /usr/local/lib/python3.7/dist-packages (from aiohttp->python-weather) (4.0.2)\n",
            "Requirement already satisfied: attrs>=17.3.0 in /usr/local/lib/python3.7/dist-packages (from aiohttp->python-weather) (22.1.0)\n",
            "Requirement already satisfied: charset-normalizer<3.0,>=2.0 in /usr/local/lib/python3.7/dist-packages (from aiohttp->python-weather) (2.1.1)\n",
            "Requirement already satisfied: multidict<7.0,>=4.5 in /usr/local/lib/python3.7/dist-packages (from aiohttp->python-weather) (6.0.2)\n",
            "Requirement already satisfied: idna>=2.0 in /usr/local/lib/python3.7/dist-packages (from yarl<2.0,>=1.0->aiohttp->python-weather) (2.10)\n",
            "Looking in indexes: https://pypi.org/simple, https://us-python.pkg.dev/colab-wheels/public/simple/\n",
            "Requirement already satisfied: telebot in /usr/local/lib/python3.7/dist-packages (0.0.4)\n",
            "Requirement already satisfied: requests in /usr/local/lib/python3.7/dist-packages (from telebot) (2.23.0)\n",
            "Requirement already satisfied: certifi>=2017.4.17 in /usr/local/lib/python3.7/dist-packages (from requests->telebot) (2022.9.24)\n",
            "Requirement already satisfied: urllib3!=1.25.0,!=1.25.1,<1.26,>=1.21.1 in /usr/local/lib/python3.7/dist-packages (from requests->telebot) (1.24.3)\n",
            "Requirement already satisfied: chardet<4,>=3.0.2 in /usr/local/lib/python3.7/dist-packages (from requests->telebot) (3.0.4)\n",
            "Requirement already satisfied: idna<3,>=2.5 in /usr/local/lib/python3.7/dist-packages (from requests->telebot) (2.10)\n"
          ]
        }
      ]
    },
    {
      "cell_type": "code",
      "source": [
        "!pip install python-weather"
      ],
      "metadata": {
        "colab": {
          "base_uri": "https://localhost:8080/"
        },
        "id": "Ktqema7FhueJ",
        "outputId": "7c09481d-9dcf-49f7-be9d-4aac34581cac"
      },
      "execution_count": 18,
      "outputs": [
        {
          "output_type": "stream",
          "name": "stdout",
          "text": [
            "Looking in indexes: https://pypi.org/simple, https://us-python.pkg.dev/colab-wheels/public/simple/\n",
            "Requirement already satisfied: python-weather in /usr/local/lib/python3.7/dist-packages (0.4.3)\n",
            "Requirement already satisfied: aiohttp in /usr/local/lib/python3.7/dist-packages (from python-weather) (3.8.3)\n",
            "Requirement already satisfied: async-timeout<5.0,>=4.0.0a3 in /usr/local/lib/python3.7/dist-packages (from aiohttp->python-weather) (4.0.2)\n",
            "Requirement already satisfied: charset-normalizer<3.0,>=2.0 in /usr/local/lib/python3.7/dist-packages (from aiohttp->python-weather) (2.1.1)\n",
            "Requirement already satisfied: yarl<2.0,>=1.0 in /usr/local/lib/python3.7/dist-packages (from aiohttp->python-weather) (1.8.1)\n",
            "Requirement already satisfied: asynctest==0.13.0 in /usr/local/lib/python3.7/dist-packages (from aiohttp->python-weather) (0.13.0)\n",
            "Requirement already satisfied: aiosignal>=1.1.2 in /usr/local/lib/python3.7/dist-packages (from aiohttp->python-weather) (1.3.1)\n",
            "Requirement already satisfied: frozenlist>=1.1.1 in /usr/local/lib/python3.7/dist-packages (from aiohttp->python-weather) (1.3.3)\n",
            "Requirement already satisfied: typing-extensions>=3.7.4 in /usr/local/lib/python3.7/dist-packages (from aiohttp->python-weather) (4.1.1)\n",
            "Requirement already satisfied: multidict<7.0,>=4.5 in /usr/local/lib/python3.7/dist-packages (from aiohttp->python-weather) (6.0.2)\n",
            "Requirement already satisfied: attrs>=17.3.0 in /usr/local/lib/python3.7/dist-packages (from aiohttp->python-weather) (22.1.0)\n",
            "Requirement already satisfied: idna>=2.0 in /usr/local/lib/python3.7/dist-packages (from yarl<2.0,>=1.0->aiohttp->python-weather) (2.10)\n"
          ]
        }
      ]
    },
    {
      "cell_type": "code",
      "source": [
        "!pip install nest_asyncio\n",
        "import nest_asyncio\n",
        "nest_asyncio.apply()"
      ],
      "metadata": {
        "colab": {
          "base_uri": "https://localhost:8080/"
        },
        "id": "Jo8RnVkcnPtP",
        "outputId": "3fe88f57-b0e1-4a26-ab50-3fa2f2106fb8"
      },
      "execution_count": 19,
      "outputs": [
        {
          "output_type": "stream",
          "name": "stdout",
          "text": [
            "Looking in indexes: https://pypi.org/simple, https://us-python.pkg.dev/colab-wheels/public/simple/\n",
            "Requirement already satisfied: nest_asyncio in /usr/local/lib/python3.7/dist-packages (1.5.6)\n"
          ]
        }
      ]
    },
    {
      "cell_type": "markdown",
      "source": [
        "Основной код программы."
      ],
      "metadata": {
        "id": "aYxT-Sk1drBQ"
      }
    },
    {
      "cell_type": "code",
      "source": [
        "# import the module\n",
        "import python_weather\n",
        "import asyncio\n",
        "import os\n",
        "\n",
        "async def getweather():\n",
        "  # declare the client. format defaults to the metric system (celcius, km/h, etc.)\n",
        "  async with python_weather.Client(format=python_weather.IMPERIAL) as client:\n",
        "\n",
        "    # fetch a weather forecast from a city\n",
        "    weather = await client.get(\"Moscow\")\n",
        "  \n",
        "    # returns the current day's forecast temperature (int)\n",
        "    celsius = (weather.current.temperature - 32) / 1.8\n",
        "\n",
        "    print(str(round(celsius)) + \"\")\n",
        "\n",
        "    \n",
        "    print(weather.current.temperature)\n",
        "  \n",
        "    # get the weather forecast for a few days\n",
        "    for forecast in weather.forecasts:\n",
        "      print(forecast.date, forecast.astronomy)\n",
        "  \n",
        "      # hourly forecasts\n",
        "      for hourly in forecast.hourly:\n",
        "        print(f' --> {hourly!r}')\n",
        "\n",
        "if __name__ == \"__main__\":\n",
        "  # for more details\n",
        "  if os.name == \"nt\":\n",
        "    asyncio.set_event_loop_policy(asyncio.WindowsSelectorEventLoopPolicy())\n",
        "\n",
        "  asyncio.run(getweather())"
      ],
      "metadata": {
        "colab": {
          "base_uri": "https://localhost:8080/"
        },
        "id": "MkeCdvEQvppR",
        "outputId": "b03d5b90-c8c3-4c78-a074-272d135485ad"
      },
      "execution_count": 37,
      "outputs": [
        {
          "output_type": "stream",
          "name": "stdout",
          "text": [
            "-6\n",
            "21\n",
            "2022-11-18 <Astronomy moon_phase='🌗' sun_rise=datetime.time(8, 9) sun_set=datetime.time(16, 17)>\n",
            " --> <HourlyForecast time=datetime.time(0, 0) temperature=23 description='Moderate snow' type=❄️>\n",
            " --> <HourlyForecast time=datetime.time(3, 0) temperature=22 description='Heavy snow' type=❄️>\n",
            " --> <HourlyForecast time=datetime.time(6, 0) temperature=22 description='Heavy snow' type=❄️>\n",
            " --> <HourlyForecast time=datetime.time(9, 0) temperature=23 description='Heavy snow' type=❄️>\n",
            " --> <HourlyForecast time=datetime.time(12, 0) temperature=25 description='Moderate snow' type=❄️>\n",
            " --> <HourlyForecast time=datetime.time(15, 0) temperature=26 description='Heavy snow' type=❄️>\n",
            " --> <HourlyForecast time=datetime.time(18, 0) temperature=26 description='Heavy snow' type=❄️>\n",
            " --> <HourlyForecast time=datetime.time(21, 0) temperature=25 description='Heavy snow' type=❄️>\n",
            "2022-11-19 <Astronomy moon_phase='🌘' sun_rise=datetime.time(8, 11) sun_set=datetime.time(16, 16)>\n",
            " --> <HourlyForecast time=datetime.time(0, 0) temperature=25 description='Heavy snow' type=❄️>\n",
            " --> <HourlyForecast time=datetime.time(3, 0) temperature=24 description='Heavy snow' type=❄️>\n",
            " --> <HourlyForecast time=datetime.time(6, 0) temperature=19 description='Freezing fog' type=✨>\n",
            " --> <HourlyForecast time=datetime.time(9, 0) temperature=20 description='Light snow' type=🌨>\n",
            " --> <HourlyForecast time=datetime.time(12, 0) temperature=27 description='Cloudy' type=☁️>\n",
            " --> <HourlyForecast time=datetime.time(15, 0) temperature=28 description='Overcast' type=☁️>\n",
            " --> <HourlyForecast time=datetime.time(18, 0) temperature=28 description='Overcast' type=☁️>\n",
            " --> <HourlyForecast time=datetime.time(21, 0) temperature=29 description='Overcast' type=☁️>\n",
            "2022-11-20 <Astronomy moon_phase='🌘' sun_rise=datetime.time(8, 13) sun_set=datetime.time(16, 14)>\n",
            " --> <HourlyForecast time=datetime.time(0, 0) temperature=29 description='Heavy snow' type=❄️>\n",
            " --> <HourlyForecast time=datetime.time(3, 0) temperature=29 description='Heavy snow' type=❄️>\n",
            " --> <HourlyForecast time=datetime.time(6, 0) temperature=29 description='Heavy snow' type=❄️>\n",
            " --> <HourlyForecast time=datetime.time(9, 0) temperature=27 description='Heavy snow' type=❄️>\n",
            " --> <HourlyForecast time=datetime.time(12, 0) temperature=31 description='Light snow' type=🌨>\n",
            " --> <HourlyForecast time=datetime.time(15, 0) temperature=32 description='Moderate snow' type=❄️>\n",
            " --> <HourlyForecast time=datetime.time(18, 0) temperature=30 description='Freezing fog' type=✨>\n",
            " --> <HourlyForecast time=datetime.time(21, 0) temperature=29 description='Light snow' type=🌨>\n"
          ]
        }
      ]
    },
    {
      "cell_type": "markdown",
      "source": [
        "Код бота."
      ],
      "metadata": {
        "id": "9F5j_qGKrYGw"
      }
    },
    {
      "cell_type": "code",
      "source": [
        "from aiogram import Bot, Dispatcher, executor, types\n",
        "import python_weather\n",
        "\n",
        "#Bot init\n",
        "bot = Bot(token=\"5857745851:AAExaeDgzZkcnJJJ_N1NCZW_KPMHat2twbo\")\n",
        "dp = Dispatcher(bot)\n",
        "client = python_weather.Client(format=python_weather.IMPERIAL)\n",
        "\n",
        "# echo\n",
        "@dp.message_handler()\n",
        "async def echo(message: types.Message):\n",
        "  weather = await client.find(message.text)\n",
        "  celsius = (weather.current.temperature - 32) / 1.8\n",
        "\n",
        "  resp_msg = weather.location_name + \"\\n\"\n",
        "  resp_msg += f\"Текущая температура в: {celsius}\\n\"\n",
        "  resp_msg += f\"Состояние погоды: {weather.current.sky_text}\"\n",
        "\n",
        "  if celsius <= 10:\n",
        "    resp_msg += \"\\n\\n На улице холодно, одевайтесь тепло.\"\n",
        "  else:\n",
        "    resp_msg += \"\\n\\n На улице Тепло, тёплые вещи, можно оставить дома.\"\n",
        "\n",
        "  await message.answer(resp_msg)\n",
        "\n",
        "  #run long-polling\n",
        "  if __name__ == \"__main__\":\n",
        "    executor.start_polling(dp, skip_updates=True)"
      ],
      "metadata": {
        "id": "_e9O2mRyodmT",
        "colab": {
          "base_uri": "https://localhost:8080/"
        },
        "outputId": "cc28dfc0-86e4-4342-fe83-cd2f6c3dd7b0"
      },
      "execution_count": 41,
      "outputs": [
        {
          "output_type": "stream",
          "name": "stderr",
          "text": [
            "ERROR:asyncio:Unclosed client session\n",
            "client_session: <aiohttp.client.ClientSession object at 0x7fb49d378d50>\n"
          ]
        }
      ]
    }
  ]
}